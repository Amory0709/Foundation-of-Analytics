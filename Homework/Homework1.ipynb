{
 "cells": [
  {
   "cell_type": "markdown",
   "metadata": {},
   "source": [
    "# Homework 1"
   ]
  },
  {
   "cell_type": "markdown",
   "metadata": {},
   "source": [
    "## 1 Linear Algebra in Numpy"
   ]
  },
  {
   "cell_type": "code",
   "execution_count": 39,
   "metadata": {},
   "outputs": [],
   "source": [
    "import numpy as np\n",
    "from numpy import genfromtxt\n",
    "import matplotlib.pyplot as plt\n",
    "m = np.random.randn(100, 100)"
   ]
  },
  {
   "cell_type": "code",
   "execution_count": 3,
   "metadata": {},
   "outputs": [
    {
     "data": {
      "text/plain": [
       "-0.007258597584090722"
      ]
     },
     "execution_count": 3,
     "metadata": {},
     "output_type": "execute_result"
    }
   ],
   "source": [
    "np.mean(m)"
   ]
  },
  {
   "cell_type": "code",
   "execution_count": 4,
   "metadata": {},
   "outputs": [
    {
     "data": {
      "text/plain": [
       "0.9945433440308432"
      ]
     },
     "execution_count": 4,
     "metadata": {},
     "output_type": "execute_result"
    }
   ],
   "source": [
    "np.var(m)"
   ]
  },
  {
   "cell_type": "code",
   "execution_count": 16,
   "metadata": {},
   "outputs": [
    {
     "name": "stdout",
     "output_type": "stream",
     "text": [
      "mean:  -0.12428945412416477 \n",
      "Variance:  0.8172741921306632\n",
      "mean:  -0.13551417361890652 \n",
      "Variance:  1.0795086289431428\n",
      "mean:  -0.07477877903741194 \n",
      "Variance:  0.8997888947132293\n",
      "mean:  0.15190198474003286 \n",
      "Variance:  1.0150861619651323\n",
      "mean:  -0.10739692866689747 \n",
      "Variance:  1.0834552729692681\n",
      "mean:  -0.04087291633986448 \n",
      "Variance:  0.9277592712999927\n",
      "mean:  0.08136372001133893 \n",
      "Variance:  1.0858143893074008\n",
      "mean:  0.12906888722166632 \n",
      "Variance:  1.0069250695714151\n",
      "mean:  -0.07848657425143647 \n",
      "Variance:  1.05541560151618\n",
      "mean:  0.09892002133909561 \n",
      "Variance:  1.172934637632745\n",
      "mean:  -0.013376152829995274 \n",
      "Variance:  0.7194660555754748\n",
      "mean:  -0.0615777446636873 \n",
      "Variance:  0.955406862408188\n",
      "mean:  -0.1565437608883028 \n",
      "Variance:  1.2199014814383293\n",
      "mean:  -0.07674186866831378 \n",
      "Variance:  1.1142031945656359\n",
      "mean:  0.17824722635123078 \n",
      "Variance:  0.8562734874368501\n",
      "mean:  0.06943008593096384 \n",
      "Variance:  0.9371875968611942\n",
      "mean:  -0.18411652929134475 \n",
      "Variance:  1.1110414998895477\n",
      "mean:  0.003925418372195314 \n",
      "Variance:  1.0245149477064732\n",
      "mean:  -0.07917897518081579 \n",
      "Variance:  0.9498459476026926\n",
      "mean:  -0.15925349186541682 \n",
      "Variance:  1.0811391759127351\n",
      "mean:  0.01906431146675848 \n",
      "Variance:  0.9727520220534649\n",
      "mean:  0.07715780300331056 \n",
      "Variance:  0.9900971070694\n",
      "mean:  -0.1393216921245299 \n",
      "Variance:  0.7441461499206067\n",
      "mean:  0.030696914902840322 \n",
      "Variance:  1.0517513358304713\n",
      "mean:  0.028199759661784583 \n",
      "Variance:  1.0608905458923656\n",
      "mean:  -0.06454785065139798 \n",
      "Variance:  1.0974329893585795\n",
      "mean:  -0.055754412832725475 \n",
      "Variance:  1.190076822731022\n",
      "mean:  0.011586694808102793 \n",
      "Variance:  1.0074341518234784\n",
      "mean:  -0.16936379236315313 \n",
      "Variance:  1.054194462142207\n",
      "mean:  0.1652706417207521 \n",
      "Variance:  1.1067665955416048\n",
      "mean:  0.07024093858915308 \n",
      "Variance:  0.9737452758902952\n",
      "mean:  0.023710805713921326 \n",
      "Variance:  0.9389502918388355\n",
      "mean:  0.08154161609820712 \n",
      "Variance:  0.9748593898108285\n",
      "mean:  0.04989422875685831 \n",
      "Variance:  0.7658342161194142\n",
      "mean:  -0.03520840196495203 \n",
      "Variance:  0.9634459682779992\n",
      "mean:  0.07079911131084123 \n",
      "Variance:  1.1265323920917738\n",
      "mean:  0.0656122159731328 \n",
      "Variance:  0.9540508670304072\n",
      "mean:  -0.03726061493913406 \n",
      "Variance:  1.0098294132263814\n",
      "mean:  -0.04784295639940949 \n",
      "Variance:  0.9733909677613818\n",
      "mean:  0.0554206494443633 \n",
      "Variance:  0.6873425251400559\n",
      "mean:  -0.008295762859798429 \n",
      "Variance:  1.1402870898802653\n",
      "mean:  -0.05769324615656179 \n",
      "Variance:  0.9254317864414011\n",
      "mean:  0.09598057805234717 \n",
      "Variance:  1.068360519974337\n",
      "mean:  0.05379567795544042 \n",
      "Variance:  1.1282283549330818\n",
      "mean:  0.0021411496195096504 \n",
      "Variance:  0.9902218583156648\n",
      "mean:  0.0519625052932597 \n",
      "Variance:  0.917182599705686\n",
      "mean:  0.02121978831128276 \n",
      "Variance:  0.9203841260335756\n",
      "mean:  -0.10135793661747484 \n",
      "Variance:  0.8086050034177936\n",
      "mean:  -0.17776364593529348 \n",
      "Variance:  1.0776019006867437\n",
      "mean:  -0.13094636901499146 \n",
      "Variance:  1.269163845545679\n",
      "mean:  -0.07202649578478137 \n",
      "Variance:  1.0700730580494424\n",
      "mean:  -0.01306406646024383 \n",
      "Variance:  1.168141446164566\n",
      "mean:  -0.0008739268194017277 \n",
      "Variance:  1.0759360652615853\n",
      "mean:  -0.13619415439092253 \n",
      "Variance:  1.0420201302682335\n",
      "mean:  0.07340457280876031 \n",
      "Variance:  1.0373283796091146\n",
      "mean:  -0.14700368329568989 \n",
      "Variance:  0.9906854630206356\n",
      "mean:  -0.02018032236339645 \n",
      "Variance:  0.9780429959414242\n",
      "mean:  -0.20520721971630493 \n",
      "Variance:  1.0156682699368447\n",
      "mean:  0.1331710594287573 \n",
      "Variance:  0.8385294301265794\n",
      "mean:  0.10562834694264142 \n",
      "Variance:  0.8805021500152581\n",
      "mean:  -0.1284193730753055 \n",
      "Variance:  0.9065238033030881\n",
      "mean:  -0.05546295204268513 \n",
      "Variance:  1.163709784848293\n",
      "mean:  -0.16387510021717033 \n",
      "Variance:  1.0621676875075112\n",
      "mean:  -0.018943652968286477 \n",
      "Variance:  0.9588763846398715\n",
      "mean:  -0.0976628572887805 \n",
      "Variance:  0.9340870607967081\n",
      "mean:  0.16431646752276374 \n",
      "Variance:  0.8181300514253159\n",
      "mean:  0.05546839799512467 \n",
      "Variance:  0.7969304514869172\n",
      "mean:  -0.07796520351107838 \n",
      "Variance:  1.22861709484408\n",
      "mean:  0.18569307689110573 \n",
      "Variance:  0.850542958802226\n",
      "mean:  -0.013109368393016933 \n",
      "Variance:  0.8601650673509846\n",
      "mean:  0.07683553924691851 \n",
      "Variance:  1.0510300162155684\n",
      "mean:  0.014699136279358588 \n",
      "Variance:  0.9879160363936816\n",
      "mean:  0.043396695406998205 \n",
      "Variance:  0.9669192597833696\n",
      "mean:  0.05866422299874289 \n",
      "Variance:  0.825924651361263\n",
      "mean:  -0.0651633644527255 \n",
      "Variance:  0.804450736437251\n",
      "mean:  0.09347056399626616 \n",
      "Variance:  0.905708887381947\n",
      "mean:  -0.0629884540259829 \n",
      "Variance:  0.8167489725316327\n",
      "mean:  -0.008769124567169651 \n",
      "Variance:  1.0802292326587228\n",
      "mean:  0.013081624104937281 \n",
      "Variance:  1.023570805122096\n",
      "mean:  0.01883949356540036 \n",
      "Variance:  0.8213890037703645\n",
      "mean:  0.0958193545382372 \n",
      "Variance:  1.0421492795176277\n",
      "mean:  0.23833760570925477 \n",
      "Variance:  0.9225928268194159\n",
      "mean:  0.029810405220618084 \n",
      "Variance:  0.9679054955125094\n",
      "mean:  -0.18641838262077534 \n",
      "Variance:  1.0819975905584314\n",
      "mean:  -0.10163942651805623 \n",
      "Variance:  1.3271277085844593\n",
      "mean:  0.06143574176829851 \n",
      "Variance:  0.8178142265207494\n",
      "mean:  0.0505352957083052 \n",
      "Variance:  0.8854333512960669\n",
      "mean:  -0.08212221867492721 \n",
      "Variance:  0.8942145422052339\n",
      "mean:  -0.07967903977346172 \n",
      "Variance:  0.8822417457710426\n",
      "mean:  -0.06001796656058412 \n",
      "Variance:  0.8031882239236913\n",
      "mean:  0.00379000086993426 \n",
      "Variance:  0.9382880516462947\n",
      "mean:  -0.043181926252110946 \n",
      "Variance:  1.1527941534103123\n",
      "mean:  -0.03087910291849859 \n",
      "Variance:  0.8552257984262216\n",
      "mean:  -0.13450386688869506 \n",
      "Variance:  1.0410003123172833\n",
      "mean:  -0.03988045880493887 \n",
      "Variance:  0.8022061154090468\n",
      "mean:  0.10983331083638675 \n",
      "Variance:  1.0803981882447977\n",
      "mean:  0.1259727046052048 \n",
      "Variance:  0.8286071898055798\n",
      "mean:  0.07019191741601413 \n",
      "Variance:  1.0118903017678307\n",
      "mean:  0.020358401483374863 \n",
      "Variance:  1.1078313052941582\n",
      "mean:  0.10694931127010504 \n",
      "Variance:  1.1216471183347316\n"
     ]
    }
   ],
   "source": [
    "result = []\n",
    "for i in range(0,100):\n",
    "    mean = np.mean(m[i])\n",
    "    var = np.var(m[i])\n",
    "    print(\"mean: \", mean, \"\\nVariance: \",var)\n",
    "    result.append((mean,var))"
   ]
  },
  {
   "cell_type": "code",
   "execution_count": 27,
   "metadata": {},
   "outputs": [
    {
     "name": "stdout",
     "output_type": "stream",
     "text": [
      "[[-0.12428945]\n",
      " [-0.13551417]\n",
      " [-0.07477878]\n",
      " [ 0.15190198]\n",
      " [-0.10739693]]\n"
     ]
    }
   ],
   "source": [
    "one = np.ones((100,1))\n",
    "sum_row = np.matmul(m,one)\n",
    "mean_row = sum_row/100\n",
    "print(mean_row[0:5,])"
   ]
  },
  {
   "cell_type": "code",
   "execution_count": 30,
   "metadata": {},
   "outputs": [],
   "source": [
    "from numpy.linalg import inv\n",
    "m_inverse = inv(m)"
   ]
  },
  {
   "cell_type": "code",
   "execution_count": 32,
   "metadata": {},
   "outputs": [
    {
     "data": {
      "text/plain": [
       "array([[ 1.00000000e+00,  7.86869697e-16,  1.82645110e-15, ...,\n",
       "         3.30291350e-15,  4.10782519e-15,  3.88578059e-15],\n",
       "       [-2.89631022e-15,  1.00000000e+00, -1.43569826e-15, ...,\n",
       "         3.49720253e-15, -1.45022883e-15,  2.77555756e-15],\n",
       "       [ 3.12587363e-15,  5.94850348e-16,  1.00000000e+00, ...,\n",
       "        -2.33146835e-15, -2.22044605e-15, -6.10622664e-16],\n",
       "       ...,\n",
       "       [-6.48424589e-16,  1.67989374e-16, -5.87812782e-17, ...,\n",
       "         1.00000000e+00,  8.88178420e-16,  0.00000000e+00],\n",
       "       [ 4.32007135e-17, -5.94748506e-16, -3.40790419e-16, ...,\n",
       "        -2.22044605e-16,  1.00000000e+00, -1.38777878e-15],\n",
       "       [-6.15442458e-16,  7.01737890e-16,  3.80432225e-16, ...,\n",
       "         1.05471187e-15,  1.94289029e-15,  1.00000000e+00]])"
      ]
     },
     "execution_count": 32,
     "metadata": {},
     "output_type": "execute_result"
    }
   ],
   "source": [
    "np.matmul(m_inverse,m)"
   ]
  },
  {
   "cell_type": "code",
   "execution_count": 33,
   "metadata": {},
   "outputs": [
    {
     "data": {
      "text/plain": [
       "array([[ 1.00000000e+00,  1.43406695e-16, -7.42510940e-16, ...,\n",
       "        -2.77555756e-17,  6.38378239e-16,  6.93889390e-16],\n",
       "       [ 5.03407804e-16,  1.00000000e+00,  6.88792066e-16, ...,\n",
       "         1.27675648e-15,  1.95676808e-15, -3.33066907e-16],\n",
       "       [-3.99232746e-16, -1.72983341e-16,  1.00000000e+00, ...,\n",
       "        -5.55111512e-16, -6.17561557e-16, -4.16333634e-17],\n",
       "       ...,\n",
       "       [ 5.58894752e-16, -4.97963212e-18,  9.33307820e-16, ...,\n",
       "         1.00000000e+00,  1.55431223e-15, -5.82867088e-16],\n",
       "       [-3.58064674e-15, -1.21022005e-15,  7.93781599e-17, ...,\n",
       "        -1.33226763e-15,  1.00000000e+00,  8.60422844e-16],\n",
       "       [-6.27579558e-16,  1.06490404e-15, -2.63688071e-16, ...,\n",
       "        -4.44089210e-16,  1.11022302e-16,  1.00000000e+00]])"
      ]
     },
     "execution_count": 33,
     "metadata": {},
     "output_type": "execute_result"
    }
   ],
   "source": [
    "np.matmul(m,m_inverse)"
   ]
  },
  {
   "cell_type": "markdown",
   "metadata": {},
   "source": [
    "###### We can notice the off-diagnoal elements are not exactly y. This is because floating-point numbers are represented in computer hardware as base 2 (binary) fractions， which affects the precision of the float data type."
   ]
  },
  {
   "cell_type": "markdown",
   "metadata": {},
   "source": [
    "## 2 Probability Distribution"
   ]
  },
  {
   "cell_type": "code",
   "execution_count": 3,
   "metadata": {},
   "outputs": [],
   "source": [
    "trial_data = genfromtxt('data/sample_trials.csv', delimiter=',' ,  skip_header=1)"
   ]
  },
  {
   "cell_type": "code",
   "execution_count": 14,
   "metadata": {},
   "outputs": [
    {
     "data": {
      "text/plain": [
       "array([[ 0.        ,  3.        ,  0.36362867, -1.40713219,  1.        ],\n",
       "       [ 1.        ,  4.        ,  0.26304612,  0.41229043,  1.        ],\n",
       "       [ 3.        ,  4.        ,  0.3943678 , -1.19853606,  1.        ],\n",
       "       ...,\n",
       "       [ 1.        ,  3.        ,  0.67161194, -0.33284874,  1.        ],\n",
       "       [ 0.        ,  3.        ,  0.33100578, -1.64358573,  1.        ],\n",
       "       [ 2.        ,  5.        ,  0.77263561, -0.24055526,  1.        ]])"
      ]
     },
     "execution_count": 14,
     "metadata": {},
     "output_type": "execute_result"
    }
   ],
   "source": [
    "trial_data"
   ]
  },
  {
   "cell_type": "code",
   "execution_count": 31,
   "metadata": {
    "scrolled": true
   },
   "outputs": [
    {
     "name": "stdout",
     "output_type": "stream",
     "text": [
      "**Column 1 has 9 unique values. **\n",
      "            \n",
      " The unique values are [0. 1. 2. 3. 4. 5. 6. 7. 8.] \n",
      "            \n",
      " The count values of them are [ 688 1364 1319  900  489  167   57   14    2] \n",
      "\n",
      "**Column 2 has 6 unique values. **\n",
      "            \n",
      " The unique values are [1. 2. 3. 4. 5. 6.] \n",
      "            \n",
      " The count values of them are [851 784 857 833 858 817] \n",
      "\n",
      "**Column 3 has 5000 unique values. **\n",
      "            \n",
      " The unique values are [3.71361746e-04 6.13935287e-04 8.94901571e-04 ... 9.99859300e-01\n",
      " 9.99884820e-01 9.99891598e-01] \n",
      "            \n",
      " The count values of them are [1 1 1 ... 1 1 1] \n",
      "\n",
      "**Column 4 has 5000 unique values. **\n",
      "            \n",
      " The unique values are [-4.45398123 -3.45246167 -3.35820121 ...  3.40187852  3.51730869\n",
      "  3.81068688] \n",
      "            \n",
      " The count values of them are [1 1 1 ... 1 1 1] \n",
      "\n",
      "**Column 5 has 2 unique values. **\n",
      "            \n",
      " The unique values are [0. 1.] \n",
      "            \n",
      " The count values of them are [3475 1525] \n",
      "\n"
     ]
    }
   ],
   "source": [
    "# check value type and unique value\n",
    "col_number = trial_data.shape[1]\n",
    "for i in range(col_number):\n",
    "    unique_ele, count_ele = np.unique(trial_data[:,i],return_counts = True)\n",
    "    print(\"\"\"**Column {} has {} unique values. **\n",
    "            \\n The unique values are {} \n",
    "            \\n The count values of them are {} \\n\"\"\".format(i+1, len(unique_ele),unique_ele, count_ele))"
   ]
  },
  {
   "cell_type": "markdown",
   "metadata": {},
   "source": [
    "###### Acording to the result above, we can know that column 1, 2 and  5 have discrete value and column 3 and 4 have continuous value. And the counts of each columns' unique value is shown above."
   ]
  },
  {
   "cell_type": "code",
   "execution_count": 30,
   "metadata": {},
   "outputs": [],
   "source": [
    "# check min, max, mean, variance of each column\n",
    "def statistic_values(array):\n",
    "    min_v = np.min(array)\n",
    "    print(\"Min is :\", min_v)\n",
    "    max_v = np.max(array)\n",
    "    print(\"Max is :\", max_v)\n",
    "    mean = np.mean(array)\n",
    "    print(\"Mean is :\", mean)\n",
    "    var = np.var(array)\n",
    "    print(\"Variance is :\", var)"
   ]
  },
  {
   "cell_type": "code",
   "execution_count": 33,
   "metadata": {},
   "outputs": [
    {
     "name": "stdout",
     "output_type": "stream",
     "text": [
      "Column  1\n",
      "Min is : 0.0\n",
      "Max is : 8.0\n",
      "Mean is : 1.9898\n",
      "Variance is : 1.9616959600000001\n",
      "\n",
      "\n",
      "Column  2\n",
      "Min is : 1.0\n",
      "Max is : 6.0\n",
      "Mean is : 3.5028\n",
      "Variance is : 2.90839216\n",
      "\n",
      "\n",
      "Column  3\n",
      "Min is : 0.00037136174624674556\n",
      "Max is : 0.9998915976210577\n",
      "Mean is : 0.49743933618608815\n",
      "Variance is : 0.08355261995766033\n",
      "\n",
      "\n",
      "Column  4\n",
      "Min is : -4.453981228831423\n",
      "Max is : 3.810686879834815\n",
      "Mean is : 0.025130676760924172\n",
      "Variance is : 0.9953101806208575\n",
      "\n",
      "\n",
      "Column  5\n",
      "Min is : 0.0\n",
      "Max is : 1.0\n",
      "Mean is : 0.305\n",
      "Variance is : 0.211975\n",
      "\n",
      "\n"
     ]
    }
   ],
   "source": [
    "for i in range(col_number):\n",
    "    print(\"Column \",i+1)\n",
    "    statistic_values(trial_data[:,i])\n",
    "    print(\"\\n\")"
   ]
  },
  {
   "cell_type": "code",
   "execution_count": 73,
   "metadata": {},
   "outputs": [],
   "source": [
    "# Investgate the distribution\n",
    "def distribution_histogram(array, i):\n",
    "    min_v = np.min(array)\n",
    "    max_v = np.max(array)\n",
    "    if len(np.unique(array)) < 10:\n",
    "        width = 1\n",
    "    else:\n",
    "        width = 0.05\n",
    "    binblocks = np.arange(min_v - width/2, max_v + width, width)\n",
    "    #plt.subplot(3,2,i+1)\n",
    "    plt.hist(array, bins = binblocks, rwidth=0.9)\n",
    "    plt.title(\"Histogram of Column {}\".format(i+1))\n",
    "    plt.show()"
   ]
  },
  {
   "cell_type": "code",
   "execution_count": 74,
   "metadata": {},
   "outputs": [
    {
     "data": {
      "image/png": "[encoded data removed]",
      "text/plain": [
       "<Figure size 432x288 with 1 Axes>"
      ]
     },
     "metadata": {
      "needs_background": "light"
     },
     "output_type": "display_data"
    },
    {
     "name": "stdout",
     "output_type": "stream",
     "text": [
      "\n",
      "\n"
     ]
    },
    {
     "data": {
      "image/png": "[encoded data removed]",
      "text/plain": [
       "<Figure size 432x288 with 1 Axes>"
      ]
     },
     "metadata": {
      "needs_background": "light"
     },
     "output_type": "display_data"
    },
    {
     "name": "stdout",
     "output_type": "stream",
     "text": [
      "\n",
      "\n"
     ]
    },
    {
     "data": {
      "image/png": "[encoded data removed]",
      "text/plain": [
       "<Figure size 432x288 with 1 Axes>"
      ]
     },
     "metadata": {
      "needs_background": "light"
     },
     "output_type": "display_data"
    },
    {
     "name": "stdout",
     "output_type": "stream",
     "text": [
      "\n",
      "\n"
     ]
    },
    {
     "data": {
      "image/png": "[encoded data removed]",
      "text/plain": [
       "<Figure size 432x288 with 1 Axes>"
      ]
     },
     "metadata": {
      "needs_background": "light"
     },
     "output_type": "display_data"
    },
    {
     "name": "stdout",
     "output_type": "stream",
     "text": [
      "\n",
      "\n"
     ]
    },
    {
     "data": {
      "image/png": "[encoded data removed]",
      "text/plain": [
       "<Figure size 432x288 with 1 Axes>"
      ]
     },
     "metadata": {
      "needs_background": "light"
     },
     "output_type": "display_data"
    },
    {
     "name": "stdout",
     "output_type": "stream",
     "text": [
      "\n",
      "\n"
     ]
    }
   ],
   "source": [
    "for i in range(col_number):\n",
    "    #print(np.unique(trial_data[:,i]))\n",
    "    distribution_histogram(trial_data[:,i], i)\n",
    "    print(\"\\n\")"
   ]
  },
  {
   "cell_type": "markdown",
   "metadata": {},
   "source": [
    "### Label Distributions\n",
    "\n",
    "#### Column 1: Possion Distribution\n",
    "1. It is a discrete distribution\n",
    "2. The shape of this histogram coordinate with Possion Distribution, which has a peak value to represent the most possible value to appear.\n",
    "\n",
    "#### Column 2: Random Distribution\n",
    "1. It is a discrete distribution\n",
    "2. Every value has almost the same probability to take place.\n",
    "\n",
    "#### Column 3: Uniform Distribution\n",
    "1. It is a continuous distribution\n",
    "2. Values in every bin appears to have approximate probability.\n",
    "\n",
    "#### Column 4: Gaussian Distribution\n",
    "1. It is a continuous distribution\n",
    "2. The distribution of values split by peak value looks symmetric.\n",
    "\n",
    "#### Column 5: Bernoulli Distribution\n",
    "1. It is a discrete distribution\n",
    "2. there are only 2 values which is 0 and 1.\n"
   ]
  },
  {
   "cell_type": "markdown",
   "metadata": {},
   "source": [
    "### Rebuild Distribution"
   ]
  },
  {
   "cell_type": "code",
   "execution_count": 75,
   "metadata": {},
   "outputs": [],
   "source": [
    "# Column  1 Possion\n",
    "column1 = np.random.poisson(1, 5000)\n",
    "\n",
    "# Column  2 Dice Rolling\n",
    "column2 = np.random.randint(1, 7, (5000, 1))\n",
    "\n",
    "# Column  3 Uniform\n",
    "column3 = np.random.rand(5000,1)\n",
    "\n",
    "# Column  4 Gaussian\n",
    "# Mean is : 0.025130676760924172\n",
    "# Variance is : 0.9953101806208575\n",
    "column4 = np.random.randn(5000,1)\n",
    "\n",
    "# Column  5 Bernoulli\n",
    "# Mean is : 0.305\n",
    "column5 = np.random.binomial(1,0.3,5000)"
   ]
  },
  {
   "cell_type": "code",
   "execution_count": 76,
   "metadata": {},
   "outputs": [],
   "source": [
    "#Simulate another 5000 samples of Bernoulli distribution with the same set of parameters.\n",
    "newBern = np.random.binomial(1,0.3,5000)\n",
    "filename = 'data/new_bernoulli.csv'\n",
    "np.savetxt(filename, newBern, delimiter=',',header = 'new bernouli')"
   ]
  }
 ],
 "metadata": {
  "kernelspec": {
   "display_name": "Python 3",
   "language": "python",
   "name": "python3"
  },
  "language_info": {
   "codemirror_mode": {
    "name": "ipython",
    "version": 3
   },
   "file_extension": ".py",
   "mimetype": "text/x-python",
   "name": "python",
   "nbconvert_exporter": "python",
   "pygments_lexer": "ipython3",
   "version": "3.6.8"
  }
 },
 "nbformat": 4,
 "nbformat_minor": 2
}
